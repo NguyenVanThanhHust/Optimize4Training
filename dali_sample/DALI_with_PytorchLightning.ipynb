{
 "cells": [
  {
   "cell_type": "code",
   "execution_count": 1,
   "id": "9141d60b",
   "metadata": {},
   "outputs": [],
   "source": [
    "# https://docs.nvidia.com/deeplearning/dali/user-guide/docs/examples/frameworks/pytorch/pytorch-lightning.html"
   ]
  },
  {
   "cell_type": "code",
   "execution_count": 1,
   "id": "aefa18ff",
   "metadata": {},
   "outputs": [],
   "source": [
    "import torch\n",
    "from torch.nn import functional as F\n",
    "from torch import nn\n",
    "from pytorch_lightning import Trainer, LightningModule\n",
    "from torch.optim import Adam\n",
    "from torchvision.datasets import MNIST\n",
    "from torchvision import datasets, transforms\n",
    "from torch.utils.data import DataLoader"
   ]
  },
  {
   "cell_type": "code",
   "execution_count": 2,
   "id": "9bc5355f",
   "metadata": {},
   "outputs": [],
   "source": [
    "import os\n",
    "\n",
    "BATCH_SIZE = 64\n",
    "\n",
    "# workaround for https://github.com/pytorch/vision/issues/1938 - error 403 when\n",
    "# downloading mnist dataset\n",
    "import urllib\n",
    "\n",
    "opener = urllib.request.build_opener()\n",
    "opener.addheaders = [(\"User-agent\", \"Mozilla/5.0\")]\n",
    "urllib.request.install_opener(opener)"
   ]
  },
  {
   "cell_type": "code",
   "execution_count": 3,
   "id": "ce7f4c2b",
   "metadata": {},
   "outputs": [],
   "source": [
    "class LitMNIST(LightningModule):\n",
    "    def __init__(self):\n",
    "        super().__init__()\n",
    "        self.layer_1 = torch.nn.Linear(28*28, 128)\n",
    "        self.layer_2 = torch.nn.Linear(128, 256)\n",
    "        self.layer_3 = torch.nn.Linear(256, 10)\n",
    "        \n",
    "    def forward(self, x):\n",
    "        batch_size, channels, width, height = x.size()\n",
    "\n",
    "        # (b, 1, 28, 28) -> (b, 1*28*28)\n",
    "        x = x.view(batch_size, -1)\n",
    "        x = self.layer_1(x)\n",
    "        x = F.relu(x)\n",
    "        x = self.layer_2(x)\n",
    "        x = F.relu(x)\n",
    "        x = self.layer_3(x)\n",
    "\n",
    "        x = F.log_softmax(x, dim=1)\n",
    "        return x\n",
    "    \n",
    "    \n",
    "    def process_batch(self, batch):\n",
    "        return batch\n",
    "    \n",
    "    def training_step(self, batch, batch_idx):\n",
    "        x, y = self.process_bathc(batch)\n",
    "        logits = self(x)\n",
    "        loss = F.nll_loss(logits, y)\n",
    "        return loss\n",
    "    \n",
    "    def cross_entropy_loss(self, logits, labels):\n",
    "        return F.nll_loss(logits, labels)\n",
    "    \n",
    "    def configure_optimizers(self):\n",
    "        return Adam(self.paramertes(), lr=1e-3)\n",
    "    \n",
    "    def prepare_data(self):\n",
    "        self.mnint_train = MNIST(\n",
    "            os.getcwd(),\n",
    "            train=True,\n",
    "            download=True, \n",
    "            transform=transforms.ToTensor()\n",
    "        )\n",
    "        \n",
    "    def setup(self, stage=None):\n",
    "        # transforms for images\n",
    "        transform = transforms.Compose(\n",
    "            [transforms.ToTensor(), transforms.Normalize((0.1307,), (0.3081,))]\n",
    "        )\n",
    "        self.mnist_train = MNIST(\n",
    "            os.getcwd(), train=True, download=False, transform=transform\n",
    "        )\n",
    "\n",
    "    def train_dataloader(self):\n",
    "        return DataLoader(\n",
    "            self.mnist_train, batch_size=64, num_workers=8, pin_memory=True\n",
    "        )"
   ]
  },
  {
   "cell_type": "code",
   "execution_count": null,
   "id": "cb7191cb",
   "metadata": {},
   "outputs": [],
   "source": [
    "model = LitMNIST()\n",
    "trainer = Trainer(max_epochs=5, devices=1, accelerator=\"gpu\")\n",
    "# ddp work only in no-interactive mode, to test it unncoment and run as a script\n",
    "# trainer = Trainer(devices=8, accelerator=\"gpu\", strategy=\"ddp\", max_epochs=5)\n",
    "## MNIST data set is not always available to download due to network issues\n",
    "## to run this part of example either uncomment below line\n",
    "# trainer.fit(model)"
   ]
  }
 ],
 "metadata": {
  "kernelspec": {
   "display_name": "Python 3 (ipykernel)",
   "language": "python",
   "name": "python3"
  },
  "language_info": {
   "codemirror_mode": {
    "name": "ipython",
    "version": 3
   },
   "file_extension": ".py",
   "mimetype": "text/x-python",
   "name": "python",
   "nbconvert_exporter": "python",
   "pygments_lexer": "ipython3",
   "version": "3.10.12"
  }
 },
 "nbformat": 4,
 "nbformat_minor": 5
}
